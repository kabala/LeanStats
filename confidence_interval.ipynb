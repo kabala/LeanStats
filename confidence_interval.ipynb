{
 "cells": [
  {
   "cell_type": "code",
   "execution_count": 25,
   "id": "db981c1b",
   "metadata": {},
   "outputs": [
    {
     "name": "stdout",
     "output_type": "stream",
     "text": [
      "Requirement already satisfied: statsmodels in c:\\users\\kabal\\anaconda3\\envs\\ds\\lib\\site-packages (0.14.5)\n",
      "Requirement already satisfied: numpy<3,>=1.22.3 in c:\\users\\kabal\\anaconda3\\envs\\ds\\lib\\site-packages (from statsmodels) (2.3.2)\n",
      "Requirement already satisfied: scipy!=1.9.2,>=1.8 in c:\\users\\kabal\\anaconda3\\envs\\ds\\lib\\site-packages (from statsmodels) (1.16.0)\n",
      "Requirement already satisfied: pandas!=2.1.0,>=1.4 in c:\\users\\kabal\\anaconda3\\envs\\ds\\lib\\site-packages (from statsmodels) (2.3.1)\n",
      "Requirement already satisfied: patsy>=0.5.6 in c:\\users\\kabal\\anaconda3\\envs\\ds\\lib\\site-packages (from statsmodels) (1.0.1)\n",
      "Requirement already satisfied: packaging>=21.3 in c:\\users\\kabal\\anaconda3\\envs\\ds\\lib\\site-packages (from statsmodels) (25.0)\n",
      "Requirement already satisfied: python-dateutil>=2.8.2 in c:\\users\\kabal\\anaconda3\\envs\\ds\\lib\\site-packages (from pandas!=2.1.0,>=1.4->statsmodels) (2.9.0.post0)\n",
      "Requirement already satisfied: pytz>=2020.1 in c:\\users\\kabal\\anaconda3\\envs\\ds\\lib\\site-packages (from pandas!=2.1.0,>=1.4->statsmodels) (2025.2)\n",
      "Requirement already satisfied: tzdata>=2022.7 in c:\\users\\kabal\\anaconda3\\envs\\ds\\lib\\site-packages (from pandas!=2.1.0,>=1.4->statsmodels) (2025.2)\n",
      "Requirement already satisfied: six>=1.5 in c:\\users\\kabal\\anaconda3\\envs\\ds\\lib\\site-packages (from python-dateutil>=2.8.2->pandas!=2.1.0,>=1.4->statsmodels) (1.17.0)\n",
      "Note: you may need to restart the kernel to use updated packages.\n"
     ]
    }
   ],
   "source": [
    "%pip install statsmodels\n"
   ]
  },
  {
   "cell_type": "markdown",
   "id": "466c7c7b",
   "metadata": {},
   "source": [
    "# Alternativas para calcular tamaño de muestra en Python\n",
    "\n",
    "Comparemos diferentes métodos y librerías para calcular el tamaño de muestra necesario para intervalos de confianza de proporciones."
   ]
  },
  {
   "cell_type": "code",
   "execution_count": 26,
   "id": "3d8e3302",
   "metadata": {},
   "outputs": [
    {
     "name": "stdout",
     "output_type": "stream",
     "text": [
      "Método 1 (manual con scipy): 1067.0719 ≈ 1067\n"
     ]
    }
   ],
   "source": [
    "# Método 1: Fórmula manual con scipy.stats (el que ya tienes)\n",
    "from scipy.stats import norm\n",
    "\n",
    "confidence_level = 0.95\n",
    "margin_error = 0.03\n",
    "p_hat = 0.5\n",
    "\n",
    "z_score = norm.ppf(1 - (1 - confidence_level) / 2)\n",
    "n_manual = (z_score / margin_error) ** 2 * p_hat * (1 - p_hat)\n",
    "\n",
    "print(f\"Método 1 (manual con scipy): {n_manual:.4f} ≈ {round(n_manual)}\")"
   ]
  },
  {
   "cell_type": "code",
   "execution_count": 27,
   "id": "9d5bc1fe",
   "metadata": {},
   "outputs": [
    {
     "name": "stdout",
     "output_type": "stream",
     "text": [
      "Método 2 (statsmodels): 1067.0719 ≈ 1067\n"
     ]
    }
   ],
   "source": [
    "from statsmodels.stats.proportion import samplesize_confint_proportion\n",
    "\n",
    "# Params\n",
    "alpha = 1 - confidence_level  # 0.05\n",
    "half_width = margin_error     # 0.03\n",
    "\n",
    "n_statsmodels = samplesize_confint_proportion(p_hat, half_width, alpha=alpha)\n",
    "\n",
    "print(f\"Método 2 (statsmodels): {n_statsmodels:.4f} ≈ {round(n_statsmodels)}\")"
   ]
  },
  {
   "cell_type": "code",
   "execution_count": null,
   "id": "7b19e155",
   "metadata": {},
   "outputs": [
    {
     "name": "stdout",
     "output_type": "stream",
     "text": [
      "Método 2 (statsmodels): 1843.0268 ≈ 1843\n"
     ]
    }
   ],
   "source": [
    "# Params\n",
    "alpha = 0.05   # 0.05\n",
    "half_width = margin_error     # 0.03\n",
    "\n",
    "n_statsmodels = samplesize_confint_proportion(p_hat, half_width, alpha=alpha)\n",
    "\n",
    "print(f\"Método 2 (statsmodels): {n_statsmodels:.4f} ≈ {round(n_statsmodels)}\")"
   ]
  },
  {
   "cell_type": "markdown",
   "id": "764baa4d",
   "metadata": {},
   "source": [
    "# Cálculo de Margen de Error con diferentes librerías\n",
    "\n",
    "Ahora veamos cómo calcular el **margen de error** dado un nivel de confianza, tamaño de muestra y proporción estimada usando diferentes librerías de Python."
   ]
  },
  {
   "cell_type": "code",
   "execution_count": 5,
   "id": "6a4623b1",
   "metadata": {},
   "outputs": [
    {
     "name": "stdout",
     "output_type": "stream",
     "text": [
      "Método 1 (manual con scipy):\n",
      "  Margen de error: 0.064339\n",
      "  Intervalo: [0.4357, 0.5643]\n",
      "\n"
     ]
    }
   ],
   "source": [
    "# Método 1: Cálculo manual del margen de error con scipy.stats\n",
    "from scipy.stats import norm\n",
    "import math\n",
    "\n",
    "# Parámetros\n",
    "confidence_level = 0.95\n",
    "n_sample = 232  # tamaño de muestra\n",
    "p_hat = 0.5      # proporción estimada\n",
    "\n",
    "# Calcular el margen de error\n",
    "z_score = norm.ppf(1 - (1 - confidence_level) / 2)\n",
    "margin_error_manual = z_score * math.sqrt((p_hat * (1 - p_hat)) / n_sample)\n",
    "\n",
    "print(f\"Método 1 (manual con scipy):\")\n",
    "print(f\"  Margen de error: {margin_error_manual:.6f}\")\n",
    "print(f\"  Intervalo: [{p_hat - margin_error_manual:.4f}, {p_hat + margin_error_manual:.4f}]\")\n",
    "print()"
   ]
  },
  {
   "cell_type": "code",
   "execution_count": 6,
   "id": "ac009a4a",
   "metadata": {},
   "outputs": [
    {
     "name": "stdout",
     "output_type": "stream",
     "text": [
      "Método 2 (statsmodels.proportion_confint):\n",
      "  Intervalo: [0.435661, 0.564339]\n",
      "  Margen de error: 0.064339\n",
      "\n"
     ]
    }
   ],
   "source": [
    "# Método 2: statsmodels - proportion_confint\n",
    "from statsmodels.stats.proportion import proportion_confint\n",
    "\n",
    "# Calcular intervalo de confianza directamente\n",
    "n_successes = int(p_hat * n_sample)  # número de éxitos\n",
    "ci_lower, ci_upper = proportion_confint(n_successes, n_sample, alpha=1-confidence_level, method='normal')\n",
    "\n",
    "# El margen de error es la mitad del ancho del intervalo\n",
    "margin_error_statsmodels = (ci_upper - ci_lower) / 2\n",
    "\n",
    "print(f\"Método 2 (statsmodels.proportion_confint):\")\n",
    "print(f\"  Intervalo: [{ci_lower:.6f}, {ci_upper:.6f}]\")\n",
    "print(f\"  Margen de error: {margin_error_statsmodels:.6f}\")\n",
    "print()"
   ]
  },
  {
   "cell_type": "code",
   "execution_count": 7,
   "id": "ce9d37bb",
   "metadata": {},
   "outputs": [
    {
     "name": "stdout",
     "output_type": "stream",
     "text": [
      "Método 3 (scipy.stats con t-Student):\n",
      "  t-score: 1.970287\n",
      "  Margen de error: 0.064678\n",
      "  Intervalo: [0.435322, 0.564678]\n",
      "\n"
     ]
    }
   ],
   "source": [
    "# Método 3: scipy.stats con distribución t de Student (más preciso para muestras pequeñas)\n",
    "from scipy.stats import t\n",
    "\n",
    "# Para muestras grandes, t se aproxima a normal, pero es más preciso\n",
    "degrees_freedom = n_sample - 1\n",
    "t_score = t.ppf(1 - (1 - confidence_level) / 2, degrees_freedom)\n",
    "margin_error_t = t_score * math.sqrt((p_hat * (1 - p_hat)) / n_sample)\n",
    "\n",
    "print(f\"Método 3 (scipy.stats con t-Student):\")\n",
    "print(f\"  t-score: {t_score:.6f}\")\n",
    "print(f\"  Margen de error: {margin_error_t:.6f}\")\n",
    "print(f\"  Intervalo: [{p_hat - margin_error_t:.6f}, {p_hat + margin_error_t:.6f}]\")\n",
    "print()"
   ]
  },
  {
   "cell_type": "code",
   "execution_count": 8,
   "id": "08364dde",
   "metadata": {},
   "outputs": [
    {
     "name": "stdout",
     "output_type": "stream",
     "text": [
      "Método 4 (numpy con percentiles):\n",
      "  Valor crítico: 1.959964\n",
      "  Margen de error: 0.064339\n",
      "  Intervalo: [0.435661, 0.564339]\n",
      "\n"
     ]
    }
   ],
   "source": [
    "# Método 4: numpy con percentiles\n",
    "import numpy as np\n",
    "\n",
    "# Usando percentiles para encontrar el valor crítico\n",
    "alpha = 1 - confidence_level\n",
    "critical_value = np.abs(norm.ppf(alpha/2))\n",
    "margin_error_numpy = critical_value * np.sqrt((p_hat * (1 - p_hat)) / n_sample)\n",
    "\n",
    "print(f\"Método 4 (numpy con percentiles):\")\n",
    "print(f\"  Valor crítico: {critical_value:.6f}\")\n",
    "print(f\"  Margen de error: {margin_error_numpy:.6f}\")\n",
    "print(f\"  Intervalo: [{p_hat - margin_error_numpy:.6f}, {p_hat + margin_error_numpy:.6f}]\")\n",
    "print()"
   ]
  },
  {
   "cell_type": "code",
   "execution_count": null,
   "id": "72c60cba",
   "metadata": {},
   "outputs": [],
   "source": [
    "# Método 5: Con la librería pingouin (si está disponible)\n",
    "try:\n",
    "    import pingouin as pg\n",
    "    \n",
    "    # Simular datos binarios para el cálculo\n",
    "    data = np.random.binomial(1, p_hat, n_sample)\n",
    "    \n",
    "    # Calcular intervalo de confianza\n",
    "    ci = pg.ci(data, confidence=confidence_level)\n",
    "    margin_error_pingouin = (ci[1] - ci[0]) / 2\n",
    "    \n",
    "    print(f\"Método 5 (pingouin):\")\n",
    "    print(f\"  Intervalo: [{ci[0]:.6f}, {ci[1]:.6f}]\")\n",
    "    print(f\"  Margen de error: {margin_error_pingouin:.6f}\")\n",
    "    print()\n",
    "    \n",
    "except ImportError:\n",
    "    print(\"Método 5: pingouin no está instalado\")\n",
    "    print(\"Para instalarlo: pip install pingouin\")\n",
    "    print()"
   ]
  },
  {
   "cell_type": "code",
   "execution_count": null,
   "id": "589008a6",
   "metadata": {},
   "outputs": [],
   "source": [
    "# Comparación de todos los métodos\n",
    "print(\"=\"*60)\n",
    "print(\"RESUMEN DE MÁRGENES DE ERROR:\")\n",
    "print(\"=\"*60)\n",
    "print(f\"Método 1 (scipy manual):     {margin_error_manual:.6f}\")\n",
    "print(f\"Método 2 (statsmodels):      {margin_error_statsmodels:.6f}\")\n",
    "print(f\"Método 3 (t-Student):        {margin_error_t:.6f}\")\n",
    "print(f\"Método 4 (numpy):            {margin_error_numpy:.6f}\")\n",
    "\n",
    "# Mostrar diferencias\n",
    "print(\"\\nDiferencias respecto al método manual:\")\n",
    "print(f\"statsmodels vs manual:       {abs(margin_error_statsmodels - margin_error_manual):.8f}\")\n",
    "print(f\"t-Student vs manual:         {abs(margin_error_t - margin_error_manual):.8f}\")\n",
    "print(f\"numpy vs manual:             {abs(margin_error_numpy - margin_error_manual):.8f}\")\n",
    "\n",
    "print(f\"\\nPara n={n_sample}, p={p_hat}, confianza={confidence_level*100}%\")"
   ]
  },
  {
   "cell_type": "code",
   "execution_count": null,
   "id": "d11b6a43",
   "metadata": {},
   "outputs": [],
   "source": [
    "# Función práctica para calcular margen de error\n",
    "def calcular_margen_error(n, p=0.5, confidence=0.95, metodo='normal'):\n",
    "    \"\"\"\n",
    "    Calcula el margen de error para una proporción\n",
    "    \n",
    "    Parámetros:\n",
    "    - n: tamaño de muestra\n",
    "    - p: proporción estimada (default: 0.5 para máximo margen)\n",
    "    - confidence: nivel de confianza (default: 0.95)\n",
    "    - metodo: 'normal' o 't-student'\n",
    "    \n",
    "    Retorna:\n",
    "    - margen de error\n",
    "    \"\"\"\n",
    "    alpha = 1 - confidence\n",
    "    \n",
    "    if metodo == 'normal':\n",
    "        critical_value = norm.ppf(1 - alpha/2)\n",
    "    elif metodo == 't-student':\n",
    "        critical_value = t.ppf(1 - alpha/2, n-1)\n",
    "    else:\n",
    "        raise ValueError(\"Método debe ser 'normal' o 't-student'\")\n",
    "    \n",
    "    margin_error = critical_value * math.sqrt((p * (1 - p)) / n)\n",
    "    return margin_error\n",
    "\n",
    "# Ejemplos de uso\n",
    "print(\"Función práctica - Ejemplos:\")\n",
    "print(f\"n=100, confianza=95%:  {calcular_margen_error(100):.6f}\")\n",
    "print(f\"n=500, confianza=95%:  {calcular_margen_error(500):.6f}\")\n",
    "print(f\"n=1000, confianza=95%: {calcular_margen_error(1000):.6f}\")\n",
    "print(f\"n=1000, confianza=99%: {calcular_margen_error(1000, confidence=0.99):.6f}\")\n",
    "print(f\"n=1000, t-student:     {calcular_margen_error(1000, metodo='t-student'):.6f}\")"
   ]
  },
  {
   "cell_type": "code",
   "execution_count": 10,
   "id": "d0d60893",
   "metadata": {},
   "outputs": [
    {
     "name": "stdout",
     "output_type": "stream",
     "text": [
      "Método 1 (manual con scipy): 1503.3040 ≈ 1503\n"
     ]
    }
   ],
   "source": [
    "# Método 1: Fórmula manual con scipy.stats (el que ya tienes)\n",
    "from scipy.stats import norm\n",
    "\n",
    "confidence_level = 0.98\n",
    "margin_error = 0.03\n",
    "p_hat = 0.5\n",
    "\n",
    "z_score = norm.ppf(1 - (1 - confidence_level) / 2)\n",
    "n_manual = (z_score / margin_error) ** 2 * p_hat * (1 - p_hat)\n",
    "\n",
    "print(f\"Método 1 (manual con scipy): {n_manual:.4f} ≈ {round(n_manual)}\")"
   ]
  }
 ],
 "metadata": {
  "kernelspec": {
   "display_name": "ds",
   "language": "python",
   "name": "python3"
  },
  "language_info": {
   "codemirror_mode": {
    "name": "ipython",
    "version": 3
   },
   "file_extension": ".py",
   "mimetype": "text/x-python",
   "name": "python",
   "nbconvert_exporter": "python",
   "pygments_lexer": "ipython3",
   "version": "3.13.5"
  }
 },
 "nbformat": 4,
 "nbformat_minor": 5
}
